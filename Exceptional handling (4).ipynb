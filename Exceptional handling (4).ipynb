{
 "cells": [
  {
   "cell_type": "code",
   "execution_count": null,
   "id": "e391093e-5ab4-4bfc-be32-b23996c3f6f4",
   "metadata": {},
   "outputs": [],
   "source": [
    "#Theory"
   ]
  },
  {
   "cell_type": "code",
   "execution_count": null,
   "id": "677f07df-377b-4846-819d-79526db3b1b4",
   "metadata": {},
   "outputs": [],
   "source": [
    "1)  What is the difference between interpreted and compiled languages?\n",
    "- Compiled Languages\n",
    "Process: Source code is translated once into machine code (binary) by a compiler before it's run.\n",
    "\n",
    "Execution: The resulting executable file runs directly on the hardware.\n",
    "\n",
    "Examples: C, C++, Rust, Go\n",
    "\n",
    "- Interpreted Languages\n",
    "Process: Source code is read and executed line by line by an interpreter at runtime.\n",
    "\n",
    "Execution: No separate binary is produced; the interpreter must be present.\n",
    "\n",
    "Examples: Python, JavaScript, Ruby, PHP"
   ]
  },
  {
   "cell_type": "code",
   "execution_count": null,
   "id": "aad5bece-0863-47e6-99dd-dad65cee301a",
   "metadata": {},
   "outputs": [],
   "source": [
    "2) What is exception handling in Python?\n",
    "- An exception is an error that occurs during runtime (as opposed to syntax errors, which occur when code is parsed).\n",
    "\n",
    "Examples of exceptions:\n",
    "\n",
    "ZeroDivisionError – dividing by zero\n",
    "\n",
    "FileNotFoundError – trying to open a file that doesn’t exist\n",
    "\n",
    "TypeError – performing invalid operations on different types"
   ]
  },
  {
   "cell_type": "code",
   "execution_count": null,
   "id": "bcb70532-31e0-458d-9c05-6d30185a55f4",
   "metadata": {},
   "outputs": [],
   "source": [
    "3) What is the purpose of the finally block in exception handling?\n",
    "- Key Purposes of the finally Block:\n",
    "Resource Cleanup – Closing files, database connections, or releasing external resources.\n",
    "\n",
    "Guaranteed Execution – Code in finally will run:\n",
    "\n",
    "After the try block if no exception occurs.\n",
    "\n",
    "After the except block if an exception is caught.\n",
    "\n",
    "Even if there's a return, break, or continue in try or except"
   ]
  },
  {
   "cell_type": "code",
   "execution_count": null,
   "id": "47ed9f36-eaca-4277-b571-ccc541523549",
   "metadata": {},
   "outputs": [],
   "source": [
    "4) What is logging in Python?\n",
    "- Logging in Python is a way to record messages that describe events happening in a program—especially useful for debugging, monitoring, and error tracking.\n",
    "\n",
    "Instead of using print() for debugging (which is temporary and limited), Python’s logging module provides a powerful and flexible way to write messages to:\n",
    "\n",
    "Console\n",
    "\n",
    "Files\n",
    "\n",
    "External systems (e.g., log servers"
   ]
  },
  {
   "cell_type": "code",
   "execution_count": null,
   "id": "a7df770c-f4f6-4911-b94e-bea683908f2d",
   "metadata": {},
   "outputs": [],
   "source": [
    "5) What is the significance of the __del__ method in Python?\n",
    "- Purpose of __del__\n",
    "The __del__ method allows you to define cleanup actions that should happen when an object is deleted, such as:\n",
    "\n",
    "Closing open files or network connections\n",
    "\n",
    "Releasing external resources\n",
    "\n",
    "Logging object destruction\n",
    "\n"
   ]
  },
  {
   "cell_type": "code",
   "execution_count": null,
   "id": "9260dd7a-35ef-4b9b-8ea7-bc77c2f53d22",
   "metadata": {},
   "outputs": [],
   "source": [
    "6) What is the difference between import and from ... import in Python?\n",
    "- import math\n",
    "\n",
    "print(math.sqrt(16))  # Access via module name\n",
    "\n",
    "from import statement\n",
    "\n",
    "from math import sqrt\n",
    "\n",
    "print(sqrt(16))  # Direct access\n",
    "mports specific names from a module.\n",
    "\n",
    "You don’t need the module name to use the imported functions or variables.\n",
    "\n",
    "Cleaner, but increases the chance of name collision"
   ]
  },
  {
   "cell_type": "code",
   "execution_count": null,
   "id": "d0073db0-622c-412d-93b1-2702da564c0f",
   "metadata": {},
   "outputs": [],
   "source": [
    "7)  How can you handle multiple exceptions in Python?\n",
    "- Multiple except Blocks\n",
    "- Group Multiple Exceptions in One Block\n",
    "- Catch All Exceptions (Use With Caution)\n",
    "- Use else and finally with Exceptions"
   ]
  },
  {
   "cell_type": "code",
   "execution_count": null,
   "id": "b4320986-d82c-4584-926e-8fe2d05b1247",
   "metadata": {},
   "outputs": [],
   "source": [
    "8) What is the purpose of the with statement when handling files in Python?\n",
    "- he with statement in Python is used for resource management, especially when working with files. Its main purpose is to automatically manage setup and cleanup—in this case, opening and closing a file—even if errors occur.\n",
    "\n",
    "Purpose of with When Handling Files:\n",
    "Opens the file\n",
    "\n",
    "Ensures the file is closed properly, even if an exception is raised\n",
    "\n",
    "Simplifies syntax and improves readability\n",
    "\n",
    "Helps prevent resource leaks\n",
    "\n"
   ]
  },
  {
   "cell_type": "code",
   "execution_count": null,
   "id": "dd0b3149-231f-47df-a995-83b6dba7c2ed",
   "metadata": {},
   "outputs": [],
   "source": [
    "9) What is the difference between multithreading and multiprocessing?\n",
    "- Multithreading\n",
    "Multiple threads run within the same process.\n",
    "\n",
    "Threads share the same memory space.\n",
    "\n",
    "Best for I/O-bound tasks (like network requests, file I/O).\n",
    "\n",
    "Limited by Python’s Global Interpreter Lock (GIL) — only one thread executes Python bytecode at a time.\n",
    "\n",
    "Multiprocessing\n",
    "Uses multiple processes, each with its own memory space.\n",
    "\n",
    "Bypasses the GIL, so it’s better for CPU-bound tasks (like data processing, calculations).\n",
    "\n",
    "Heavier than threads (slower startup, more memory)."
   ]
  },
  {
   "cell_type": "code",
   "execution_count": null,
   "id": "cbb8bc3b-cdc3-4e04-851f-e482dee313b7",
   "metadata": {},
   "outputs": [],
   "source": [
    "10) What are the advantages of using logging in a program?\n",
    "- Persistent Record of Events\n",
    "Multiple Severity Levels\n",
    "Better Than print()\n",
    "Centralized Control"
   ]
  },
  {
   "cell_type": "code",
   "execution_count": null,
   "id": "1eb4eeb9-e877-4f92-ab0f-ec9a44e9962d",
   "metadata": {},
   "outputs": [],
   "source": [
    "11) What is memory management in Python?\n",
    "- Key Points of Python Memory Management\n",
    "Automatic Memory Management\n",
    "\n",
    "Python handles memory allocation and deallocation automatically, so developers usually don’t manage memory manually.\n",
    "\n",
    "This is done through Python’s memory manager and garbage collector.\n",
    "\n",
    "Memory Allocation\n",
    "\n",
    "When you create objects (like lists, dicts, ints), Python allocates memory for them on the heap.\n",
    "\n",
    "Python uses a private heap space to store all objects and data structures."
   ]
  },
  {
   "cell_type": "code",
   "execution_count": null,
   "id": "673afc9a-7bc0-43b1-b45c-83eaba6696d9",
   "metadata": {},
   "outputs": [],
   "source": [
    "12) H.F What are the basic steps involved in exception handling in Python0\n",
    "- try block\n",
    "except block(s)\n",
    "else block (optional)\n",
    "Runs only if no exception was raised in the try block.\n",
    "\n",
    "Useful for code that should execute when the try block succeeds.\n",
    "\n",
    "python\n",
    "Copy\n",
    "Edit\n"
   ]
  },
  {
   "cell_type": "code",
   "execution_count": null,
   "id": "59eea7e2-7856-47d6-8adf-a0fbf1509026",
   "metadata": {},
   "outputs": [],
   "source": [
    "13) Why is memory management important in Python?\n",
    "- Memory management is important in Python for several key reasons that affect the performance, reliability, and efficiency of programs. \n",
    "Memory Management is Important in Python\n",
    "Efficient Use of Resources\n",
    "\n",
    "Proper memory management ensures that your program uses only as much memory as it needs.\n",
    "\n",
    "Prevents memory leaks, where unused objects continue consuming memory, which can degrade performance or crash programs.\n",
    "\n",
    "Program Stability\n",
    "\n",
    "Automatic memory management (like garbage collection) helps avoid crashes caused by improper memory access or dangling pointers.\n",
    "\n",
    "Ensures that objects are freed safely when they are no longer needed."
   ]
  },
  {
   "cell_type": "code",
   "execution_count": null,
   "id": "11c7ac3c-3c3e-473b-a454-1d7647586316",
   "metadata": {},
   "outputs": [],
   "source": [
    "14) What is the role of try and except in exception handling?\n",
    "- try Block\n",
    "Contains the code that might raise an exception.\n",
    "\n",
    "Python attempts to execute this code.\n",
    "\n",
    "If no exception occurs, the code runs normally.\n",
    "\n",
    "If an exception occurs, Python stops executing the try block immediately and looks for an appropriate except block.\n",
    "\n",
    "- except Block\n",
    "Defines how to respond to specific exceptions that might be raised in the try block.\n",
    "\n",
    "Catches exceptions of a specified type (or multiple types).\n",
    "\n",
    "Executes code to handle the error gracefully, like logging, cleanup, or notifying the user.\n",
    "\n",
    "If no matching except block is found, the exception propagates and may crash the program"
   ]
  },
  {
   "cell_type": "code",
   "execution_count": null,
   "id": "b1edac2f-b88c-4276-a06e-0442bd5ca03e",
   "metadata": {},
   "outputs": [],
   "source": [
    "15) How does Python's garbage collection system work?\n",
    "- Reference Counting (Primary Mechanism)\n",
    "Every object in Python maintains a reference count—the number of references pointing to it.\n",
    "\n",
    "When an object is created, its reference count is set to 1.\n",
    "\n",
    "When you assign the object to another variable, the reference count increases.\n",
    "\n",
    "When a reference is deleted or goes out of scope, the count decreases.\n",
    "\n",
    "When the reference count reaches zero, the object’s memory is immediately deallocated."
   ]
  },
  {
   "cell_type": "code",
   "execution_count": null,
   "id": "be3995fc-bc76-49f1-9958-f6639a075eea",
   "metadata": {},
   "outputs": [],
   "source": [
    "16) What is the purpose of the else block in exception handling?\n",
    "- The else block in Python's exception handling is an optional block that runs only if the try block did not raise any exceptions.\n",
    "\n",
    "Purpose of the else Block:\n",
    "It contains code that should execute only when no exceptions occur in the try block.\n",
    "\n",
    "Helps separate the \"normal\" code path from the exception handling code.\n",
    "\n",
    "Improves code readability by making it clear which code depends on successful execution."
   ]
  },
  {
   "cell_type": "code",
   "execution_count": null,
   "id": "989293a0-83a9-4223-a529-02e62672ee38",
   "metadata": {},
   "outputs": [],
   "source": [
    "17) What are the common logging levels in Python?\n",
    "- DEBUG, info, logging, warning"
   ]
  },
  {
   "cell_type": "code",
   "execution_count": null,
   "id": "a7bce40c-6470-4490-b435-3701e51025c6",
   "metadata": {},
   "outputs": [],
   "source": [
    "18) What is the difference between os.fork() and multiprocessing in Python?\n",
    "- os.fork()\n",
    "What it does:\n",
    "Creates a child process by duplicating the current process. The new child process is almost an exact copy of the parent.\n",
    "\n",
    "How it works:\n",
    "After fork(), two processes run independently:\n",
    "\n",
    "The parent gets the child's PID returned by fork().\n",
    "\n",
    "The child gets 0 returned by fork().\n",
    "\n",
    "multiprocessing Module\n",
    "What it does:\n",
    "Provides a high-level API for creating and managing separate processes.\n",
    "\n",
    "How it works:\n",
    "Uses fork() on Unix but uses other methods (like spawn) on Windows to create new processes.\n",
    "\n",
    "Where it works:\n",
    "\n",
    "Cross-platform: works on both Unix-like systems and Windows."
   ]
  },
  {
   "cell_type": "code",
   "execution_count": null,
   "id": "9c3acaf2-97ba-49ea-874d-493544b9a7ba",
   "metadata": {},
   "outputs": [],
   "source": [
    "19) What is the importance of closing a file in Python?\n",
    "- Avoids File Locking Issues\n",
    "Some operating systems lock files when they’re open to prevent conflicts.\n",
    "\n",
    "Leaving files open unnecessarily can lock files, causing problems if other programs or parts of your code try to access them.\n",
    "\n",
    "4. Improves Program Stability\n",
    "Properly closing files reduces the risk of errors later in the program related to too many open files or file access conflicts.\n",
    "\n",
    "It also helps avoid unexpected behavior, especially in long-running programs."
   ]
  },
  {
   "cell_type": "code",
   "execution_count": null,
   "id": "2e188642-4fba-4615-b182-3c3568c1cd73",
   "metadata": {},
   "outputs": [],
   "source": [
    "20) What is the difference between file.read() and file.readline() in Python?\n",
    "- file.read()\n",
    "Reads the entire contents of the file (or a specified number of bytes if you pass an argument).\n",
    "\n",
    "Returns the whole content as a single string.\n",
    "\n",
    "Useful when you want to work with the complete file at once.\n",
    "\n",
    "Can be memory-intensive for large files because it loads everything into memory.\n",
    "\n",
    "python\n",
    "Copy\n",
    "Edit\n",
    "\n",
    "file.readline()\n",
    "Reads one line at a time from the file.\n",
    "\n",
    "Returns a single line as a string, including the newline character (\\n) at the end.\n",
    "\n",
    "Useful for processing a file line-by-line, especially with large files.\n",
    "\n",
    "You can call it repeatedly to read subsequent lines."
   ]
  },
  {
   "cell_type": "code",
   "execution_count": null,
   "id": "c265d280-dceb-4fbc-859f-ea642cb2dc05",
   "metadata": {},
   "outputs": [],
   "source": [
    "21) What is the logging module in Python used for?\n",
    "- The logging module in Python is used for tracking events that happen when software runs. It provides a flexible framework for emitting log messages from your programs, which helps with:\n",
    "\n",
    "What the Logging Module Is Used For:\n",
    "Recording Events\n",
    "Capture information about program execution (errors, warnings, info, debugging messages).\n",
    "\n",
    "Debugging\n",
    "Helps developers understand program flow and diagnose issues by providing detailed runtime information."
   ]
  },
  {
   "cell_type": "code",
   "execution_count": null,
   "id": "8ab9aaac-5241-4847-842f-57da1afb6e62",
   "metadata": {},
   "outputs": [],
   "source": [
    "22) What is the os module in Python used for in file handling?\n",
    "- The os module in Python provides a way to interact with the operating system, and when it comes to file handling, it offers various functions to manipulate files and directories beyond basic reading/writing.\n",
    "\n"
   ]
  },
  {
   "cell_type": "code",
   "execution_count": null,
   "id": "400e4290-75cc-46e5-a025-de4ff1a69466",
   "metadata": {},
   "outputs": [],
   "source": [
    "23) What are the challenges associated with memory management in Python?\n",
    "- Challenges Associated with Memory Management in Python\n",
    "Reference Cycles (Memory Leaks)\n",
    "\n",
    "Python primarily uses reference counting to manage memory.\n",
    "\n",
    "When two or more objects reference each other, they create a reference cycle.\n",
    "\n",
    "Reference counting alone can’t reclaim these cyclically linked objects, potentially causing memory leaks.\n",
    "\n",
    "Python uses a cyclic garbage collector (gc module) to detect and clean these, but it’s not foolproof and can add overhead.\n",
    "\n",
    "Overhead of Garbage Collection\n",
    "\n",
    "The garbage collector runs periodically to clean up cycles.\n",
    "\n",
    "This process can introduce performance overhead and cause occasional pauses, impacting real-time or high-performance applications."
   ]
  },
  {
   "cell_type": "code",
   "execution_count": null,
   "id": "8f20bd6a-44df-4c7e-844f-89a81d426fa4",
   "metadata": {},
   "outputs": [],
   "source": [
    "24) How do you raise an exception manually in Python?\n",
    "- raise ExceptionType(\"Error message\")\n",
    "def divide(a, b):\n",
    "    if b == 0:\n",
    "        raise ZeroDivisionError(\"Cannot divide by zero!\")\n",
    "    return a / b\n",
    "\n",
    "divide(10, 0)\n"
   ]
  },
  {
   "cell_type": "code",
   "execution_count": null,
   "id": "59a4eb65-31ef-46bb-95d7-81aa75541fba",
   "metadata": {},
   "outputs": [],
   "source": [
    "25) Why is it important to use multithreading in certain applications?\n",
    "- Key Reasons to Use Multithreading\n",
    "Improved Responsiveness in User Interfaces\n",
    "\n",
    "In GUI applications, multithreading keeps the interface responsive by running long tasks (like file loading or network requests) in background threads, so the UI doesn’t freeze.\n",
    "\n",
    "Better Utilization of I/O-bound Operations\n",
    "\n",
    "For programs that spend a lot of time waiting for input/output (e.g., reading files, network communication), threads can continue working while others wait, improving overall throughput.\n",
    "\n"
   ]
  },
  {
   "cell_type": "raw",
   "id": "9a536892-afdf-45e0-abe4-2f86f269fa80",
   "metadata": {},
   "source": [
    "#PRACTICALS"
   ]
  },
  {
   "cell_type": "code",
   "execution_count": null,
   "id": "150c337b-19c3-4bd2-b174-fc82535eec37",
   "metadata": {},
   "outputs": [],
   "source": [
    "1)How can you open a file for writing in Python and write a string to iT?\n",
    "- # Open a file for writing\n",
    "with open('example.txt', 'w') as file:\n",
    "    # Write a string to the file\n",
    "    file.write('Hello, world!')\n"
   ]
  },
  {
   "cell_type": "code",
   "execution_count": null,
   "id": "9abf9d24-5d29-4f38-8fc2-57514e228daa",
   "metadata": {},
   "outputs": [],
   "source": [
    "2) Write a Python program to read the contents of a file and print each line?\n",
    "- # Open the file for reading\n",
    "with open('example.txt', 'r') as file:\n",
    "    # Read and print each line\n",
    "    for line in file:\n",
    "        print(line, end='')  # end='' prevents double newlines\n"
   ]
  },
  {
   "cell_type": "code",
   "execution_count": null,
   "id": "42bad1c3-620d-43b1-98b4-0fe6c1122357",
   "metadata": {},
   "outputs": [],
   "source": [
    " 3) How would you handle a case where the file doesn't exist while trying to open it for reading?"
   ]
  },
  {
   "cell_type": "code",
   "execution_count": 1,
   "id": "2dc0205f-126d-4032-addc-c1672ea7fb1a",
   "metadata": {},
   "outputs": [
    {
     "name": "stdout",
     "output_type": "stream",
     "text": [
      "Error: The file 'example.txt' does not exist.\n"
     ]
    }
   ],
   "source": [
    "try:\n",
    "    with open('example.txt', 'r') as file:\n",
    "        for line in file:\n",
    "            print(line, end='')\n",
    "except FileNotFoundError:\n",
    "    print(\"Error: The file 'example.txt' does not exist.\")\n"
   ]
  },
  {
   "cell_type": "code",
   "execution_count": null,
   "id": "a2531523-92e0-46af-a9c6-624761e67953",
   "metadata": {},
   "outputs": [],
   "source": [
    "4) Write a Python script that reads from one file and writes its content to another file?"
   ]
  },
  {
   "cell_type": "raw",
   "id": "a885f182-9591-4ce9-9478-b544da308571",
   "metadata": {},
   "source": [
    "# File paths (you can change these as needed)\n",
    "source_file = 'source.txt'\n",
    "destination_file = 'destination.txt'\n",
    "\n",
    "try:\n",
    "    # Open the source file for reading\n",
    "    with open(source_file, 'r') as src:\n",
    "        # Open the destination file for writing\n",
    "        with open(destination_file, 'w') as dest:\n",
    "            # Read from source and write to destination\n",
    "            for line in src:\n",
    "                dest.write(line)\n",
    "    print(f\"Contents copied from '{source_file}' to '{destination_file}' successfully.\")\n",
    "except FileNotFoundError:\n",
    "    print(f\"Error: The file '{source_file}' was not found.\")\n",
    "except Exception as e:\n",
    "    print(f\"An error occurred: {e}\")\n",
    "\n"
   ]
  },
  {
   "cell_type": "code",
   "execution_count": null,
   "id": "7b8f8aa3-ea7b-414d-a4dd-3d7c3f83ee30",
   "metadata": {},
   "outputs": [],
   "source": [
    "5) How would you catch and handle division by zero error in Python?"
   ]
  },
  {
   "cell_type": "code",
   "execution_count": null,
   "id": "352ce914-5c77-4022-8058-cbfcca26d1ce",
   "metadata": {},
   "outputs": [],
   "source": [
    "try:\n",
    "    numerator = 10\n",
    "    denominator = 0\n",
    "    result = numerator / denominator\n",
    "    print(\"Result:\", result)\n",
    "except ZeroDivisionError:\n",
    "    print(\"Error: Cannot divide by zero.\")\n"
   ]
  },
  {
   "cell_type": "code",
   "execution_count": null,
   "id": "9a056de9-6ee0-4906-9461-8b4fc2a8d5dc",
   "metadata": {},
   "outputs": [],
   "source": [
    "6) Write a Python program that logs an error message to a log file when a division by zero exception occurs?"
   ]
  },
  {
   "cell_type": "code",
   "execution_count": null,
   "id": "228f9de1-2298-4193-8bc5-23b1dc679cee",
   "metadata": {},
   "outputs": [],
   "source": [
    "import logging\n",
    "\n",
    "# Configure logging\n",
    "logging.basicConfig(\n",
    "    filename='error.log',         # Log file name\n",
    "    level=logging.ERROR,          # Logging level\n",
    "    format='%(asctime)s - %(levelname)s - %(message)s'\n",
    ")\n",
    "\n",
    "try:\n",
    "    numerator = 10\n",
    "    denominator = 0\n",
    "    result = numerator / denominator\n",
    "    print(\"Result:\", result)\n",
    "except ZeroDivisionError as e:\n",
    "    logging.error(\"Attempted to divide by zero: %s\", e)\n",
    "    print(\"An error occurred. Check the log file for details.\")\n"
   ]
  },
  {
   "cell_type": "code",
   "execution_count": null,
   "id": "ca7adfdb-ecf0-43df-8608-f3cfdd15f564",
   "metadata": {},
   "outputs": [],
   "source": [
    "7) How do you log information at different levels (INFO, ERROR, WARNING) in Python using the logging module?"
   ]
  },
  {
   "cell_type": "code",
   "execution_count": null,
   "id": "c2f398c6-6dc7-41c9-b44e-3899d1d326c4",
   "metadata": {},
   "outputs": [],
   "source": [
    "import logging\n",
    "\n",
    "# Configure logging\n",
    "logging.basicConfig(\n",
    "    filename='app.log',\n",
    "    level=logging.DEBUG,  # Set the minimum log level to capture\n",
    "    format='%(asctime)s - %(levelname)s - %(message)s'\n",
    ")\n",
    "\n",
    "# Log messages at different levels\n",
    "logging.debug(\"This is a DEBUG message (useful for developers).\")\n",
    "logging.info(\"This is an INFO message (general updates).\")\n",
    "logging.warning(\"This is a WARNING message (something might be wrong).\")\n",
    "logging.error(\"This is an ERROR message (an error occurred).\")\n",
    "logging.critical(\"This is a CRITICAL message (serious error).\")\n"
   ]
  },
  {
   "cell_type": "code",
   "execution_count": null,
   "id": "a1ca8ab1-7e6a-43e7-a12e-01c2f79c7564",
   "metadata": {},
   "outputs": [],
   "source": [
    "8) Write a program to handle a file opening error using exception handling?"
   ]
  },
  {
   "cell_type": "code",
   "execution_count": null,
   "id": "00a8628f-ee6c-45fe-bb4c-6940dcba66b2",
   "metadata": {},
   "outputs": [],
   "source": [
    "# Program to handle file opening errors\n",
    "\n",
    "file_name = 'non_existent_file.txt'\n",
    "\n",
    "try:\n",
    "    # Attempt to open the file\n",
    "    with open(file_name, 'r') as file:\n",
    "        contents = file.read()\n",
    "        print(\"File contents:\")\n",
    "        print(contents)\n",
    "\n",
    "except FileNotFoundError:\n",
    "    print(f\"Error: The file '{file_name}' was not found.\")\n",
    "\n",
    "except PermissionError:\n",
    "    print(f\"Error: Permission denied when trying to open '{file_name}'.\")\n",
    "\n",
    "except Exception as e:\n",
    "    print(f\"An unexpected error occurred: {e}\")\n"
   ]
  },
  {
   "cell_type": "code",
   "execution_count": null,
   "id": "bd2fb91c-b1c0-453c-b556-656ba23a087f",
   "metadata": {},
   "outputs": [],
   "source": [
    "9) How can you read a file line by line and store its content in a list in Python?"
   ]
  },
  {
   "cell_type": "code",
   "execution_count": null,
   "id": "31a3d35b-a211-43a6-aa6c-f4699cd341ff",
   "metadata": {},
   "outputs": [],
   "source": [
    "with open('example.txt', 'r') as file:\n",
    "    lines = file.readlines()\n",
    "\n",
    "# `lines` is now a list where each element is a line from the file (including newline characters)\n",
    "print(lines)\n"
   ]
  },
  {
   "cell_type": "code",
   "execution_count": null,
   "id": "8d8b5898-7f30-449f-b5f7-68dbde0ee3e8",
   "metadata": {},
   "outputs": [],
   "source": [
    "10) How can you append data to an existing file in Python?"
   ]
  },
  {
   "cell_type": "code",
   "execution_count": null,
   "id": "6f8e81c6-b912-4650-bc7b-e91c953aacd0",
   "metadata": {},
   "outputs": [],
   "source": [
    "# Open the file in append mode\n",
    "with open('example.txt', 'a') as file:\n",
    "    file.write('\\nThis line will be added to the end of the file.')\n"
   ]
  },
  {
   "cell_type": "code",
   "execution_count": null,
   "id": "0570ac98-e509-40af-a40e-ae9d767d05bb",
   "metadata": {},
   "outputs": [],
   "source": [
    "11) Write a Python program that uses a try-except block to handle an error when attempting to access a\n",
    "dictionary ke?y that doesn't exist"
   ]
  },
  {
   "cell_type": "code",
   "execution_count": null,
   "id": "544bc29a-750b-4bf4-9244-442fe91e3677",
   "metadata": {},
   "outputs": [],
   "source": [
    "my_dict = {'name': 'Alice', 'age': 25}\n",
    "\n",
    "try:\n",
    "    # Attempt to access a key that may not exist\n",
    "    value = my_dict['address']\n",
    "    print(\"Address:\", value)\n",
    "except KeyError:\n",
    "    print(\"Error: The key 'address' does not exist in the dictionary.\")\n"
   ]
  },
  {
   "cell_type": "code",
   "execution_count": null,
   "id": "04b8c488-9def-4931-b8b8-e3b795d85162",
   "metadata": {},
   "outputs": [],
   "source": [
    "12) Write a program that demonstrates using multiple except blocks to handle different types of exceptions?\n"
   ]
  },
  {
   "cell_type": "code",
   "execution_count": null,
   "id": "d7353cfa-a6b1-48d4-86f5-6dc28b240c94",
   "metadata": {},
   "outputs": [],
   "source": [
    "try:\n",
    "    # Example inputs that may cause exceptions\n",
    "    numerator = int(input(\"Enter numerator: \"))\n",
    "    denominator = int(input(\"Enter denominator: \"))\n",
    "    \n",
    "    # Attempt division\n",
    "    result = numerator / denominator\n",
    "    print(f\"Result: {result}\")\n",
    "\n",
    "    # Access a dictionary key that might not exist\n",
    "    sample_dict = {'a': 1, 'b': 2}\n",
    "    key = input(\"Enter a key to access in the dictionary: \")\n",
    "    print(f\"Value: {sample_dict[key]}\")\n",
    "\n",
    "except ZeroDivisionError:\n",
    "    print(\"Error: You can't divide by zero!\")\n",
    "\n",
    "except ValueError:\n",
    "    print(\"Error: Please enter valid integers.\")\n",
    "\n",
    "except KeyError:\n",
    "    print(\"Error: The specified key does not exist in the dictionary.\")\n",
    "\n",
    "except Exception as e:\n",
    "    print(f\"An unexpected error occurred: {e}\")\n"
   ]
  },
  {
   "cell_type": "code",
   "execution_count": null,
   "id": "5bb8edb8-36a5-4767-9b66-5c687fadbc3c",
   "metadata": {},
   "outputs": [],
   "source": [
    "13) How would you check if a file exists before attempting to read it in Python?"
   ]
  },
  {
   "cell_type": "code",
   "execution_count": null,
   "id": "b128ef34-1577-4ebe-856b-03c54626dd35",
   "metadata": {},
   "outputs": [],
   "source": [
    "import os\n",
    "\n",
    "file_path = 'example.txt'\n",
    "\n",
    "if os.path.exists(file_path):\n",
    "    with open(file_path, 'r') as file:\n",
    "        contents = file.read()\n",
    "        print(contents)\n",
    "else:\n",
    "    print(f\"The file '{file_path}' does not exist.\")\n"
   ]
  },
  {
   "cell_type": "code",
   "execution_count": null,
   "id": "e0734dca-0061-48d8-95fe-3ec5ea7771a0",
   "metadata": {},
   "outputs": [],
   "source": [
    "14)Write a program that uses the logging module to log both informational and error messages?"
   ]
  },
  {
   "cell_type": "code",
   "execution_count": null,
   "id": "22edbd72-dcaa-42a1-bc65-7d61091df590",
   "metadata": {},
   "outputs": [],
   "source": [
    "import logging\n",
    "\n",
    "# Configure logging: log messages to a file and set the level to INFO\n",
    "logging.basicConfig(\n",
    "    filename='app.log',\n",
    "    level=logging.INFO,  # Capture INFO and above (WARNING, ERROR, CRITICAL)\n",
    "    format='%(asctime)s - %(levelname)s - %(message)s'\n",
    ")\n",
    "\n",
    "def divide_numbers(a, b):\n",
    "    logging.info(f\"Attempting to divide {a} by {b}\")\n",
    "    try:\n",
    "        result = a / b\n",
    "        logging.info(f\"Division successful: {result}\")\n",
    "        return result\n",
    "    except ZeroDivisionError:\n",
    "        logging.error(\"Error: Division by zero attempted!\")\n",
    "        return None\n",
    "\n",
    "# Example usage\n",
    "divide_numbers(10, 2)\n",
    "divide_numbers(5, 0)\n"
   ]
  },
  {
   "cell_type": "code",
   "execution_count": null,
   "id": "926c0402-2ac6-49af-898c-18e485487425",
   "metadata": {},
   "outputs": [],
   "source": [
    "15) Write a Python program that prints the content of a file and handles the case when the file is empty?"
   ]
  },
  {
   "cell_type": "code",
   "execution_count": null,
   "id": "b80915cd-5126-4408-8578-d0e3aa9c01fe",
   "metadata": {},
   "outputs": [],
   "source": [
    "file_name = 'example.txt'\n",
    "\n",
    "try:\n",
    "    with open(file_name, 'r') as file:\n",
    "        content = file.read()\n",
    "        if content:\n",
    "            print(\"File content:\")\n",
    "            print(content)\n",
    "        else:\n",
    "            print(f\"The file '{file_name}' is empty.\")\n",
    "except FileNotFoundError:\n",
    "    print(f\"Error: The file '{file_name}' does not exist.\")\n",
    "except Exception as e:\n",
    "    print(f\"An unexpected error occurred: {e}\")\n"
   ]
  },
  {
   "cell_type": "code",
   "execution_count": null,
   "id": "b1616bc4-92f5-4e26-845b-676d3fea6e77",
   "metadata": {},
   "outputs": [],
   "source": [
    "16) Demonstrate how to use memory profiling to check the memory usage of a small program?"
   ]
  },
  {
   "cell_type": "code",
   "execution_count": null,
   "id": "3609f85a-dc24-4327-9d85-f56a546df755",
   "metadata": {},
   "outputs": [],
   "source": [
    "Install memory_profiler\n",
    "Use it in your script\n",
    "Run the script with memory profiling"
   ]
  },
  {
   "cell_type": "code",
   "execution_count": null,
   "id": "7ed73890-5867-408c-99f3-11a59825d658",
   "metadata": {},
   "outputs": [],
   "source": [
    "17) Write a Python program to create and write a list of numbers to a file, one number per line?"
   ]
  },
  {
   "cell_type": "code",
   "execution_count": null,
   "id": "626dd3f6-b1a9-460e-b221-0b3a71dd81c6",
   "metadata": {},
   "outputs": [],
   "source": [
    "numbers = [10, 20, 30, 40, 50]  # Example list of numbers\n",
    "\n",
    "with open('numbers.txt', 'w') as file:\n",
    "    for number in numbers:\n",
    "        file.write(f\"{number}\\n\")\n",
    "\n",
    "print(\"Numbers have been written to 'numbers.txt'.\")\n"
   ]
  },
  {
   "cell_type": "code",
   "execution_count": null,
   "id": "f8cd822b-22a1-4a92-ac3a-d7d2f51d1de7",
   "metadata": {},
   "outputs": [],
   "source": [
    "18) F How would you implement a basic logging setup that logs to a file with rotation after 1MB?\n"
   ]
  },
  {
   "cell_type": "code",
   "execution_count": null,
   "id": "af410369-aca8-4ef0-baf9-e6c141b8a40c",
   "metadata": {},
   "outputs": [],
   "source": [
    "import logging\n",
    "from logging.handlers import RotatingFileHandler\n",
    "\n",
    "# Create a logger\n",
    "logger = logging.getLogger('my_logger')\n",
    "logger.setLevel(logging.DEBUG)  # Log all levels DEBUG and above\n",
    "\n",
    "# Create a rotating file handler: max 1MB per file, keep 3 backups\n",
    "handler = RotatingFileHandler(\n",
    "    'app.log', maxBytes=1*1024*1024, backupCount=3\n",
    ")\n",
    "\n",
    "# Create a formatter and set it for the handler\n",
    "formatter = logging.Formatter('%(asctime)s - %(levelname)s - %(message)s')\n",
    "handler.setFormatter(formatter)\n",
    "\n",
    "# Add the handler to the logger\n",
    "logger.addHandler(handler)\n",
    "\n",
    "# Example logging\n",
    "logger.info(\"This is an info message.\")\n",
    "logger.error\n"
   ]
  },
  {
   "cell_type": "code",
   "execution_count": null,
   "id": "5f9f0098-d18d-4bef-88c2-3427b63de0f5",
   "metadata": {},
   "outputs": [],
   "source": [
    "19) Write a program that handles both IndexError and KeyError using a try-except block?"
   ]
  },
  {
   "cell_type": "code",
   "execution_count": null,
   "id": "f1ba10bf-64f8-4830-8227-540aff929eec",
   "metadata": {},
   "outputs": [],
   "source": [
    "my_list = [1, 2, 3]\n",
    "my_dict = {'a': 10, 'b': 20}\n",
    "\n",
    "try:\n",
    "    # Accessing an index that may be out of range\n",
    "    index = 5\n",
    "    print(f\"List element at index {index}: {my_list[index]}\")\n",
    "\n",
    "    # Accessing a dictionary key that may not exist\n",
    "    key = 'c'\n",
    "    print(f\"Value for key '{key}': {my_dict[key]}\")\n",
    "\n",
    "except IndexError:\n",
    "    print(\"Error: List index is out of range.\")\n",
    "\n",
    "except KeyError:\n",
    "    print(\"Error: Dictionary key not found.\")\n"
   ]
  },
  {
   "cell_type": "code",
   "execution_count": null,
   "id": "d22e61ae-e86a-43b7-921f-109b3737e67f",
   "metadata": {},
   "outputs": [],
   "source": [
    "20) How would you open a file and read its contents using a context manager in Python?\n"
   ]
  },
  {
   "cell_type": "code",
   "execution_count": null,
   "id": "fe13dd6f-b325-463d-a455-8f2306416479",
   "metadata": {},
   "outputs": [],
   "source": [
    "with open('example.txt', 'r') as file:\n",
    "    contents = file.read()\n",
    "    print(contents)\n"
   ]
  }
 ],
 "metadata": {
  "kernelspec": {
   "display_name": "Python 3 (ipykernel)",
   "language": "python",
   "name": "python3"
  },
  "language_info": {
   "codemirror_mode": {
    "name": "ipython",
    "version": 3
   },
   "file_extension": ".py",
   "mimetype": "text/x-python",
   "name": "python",
   "nbconvert_exporter": "python",
   "pygments_lexer": "ipython3",
   "version": "3.12.7"
  }
 },
 "nbformat": 4,
 "nbformat_minor": 5
}
